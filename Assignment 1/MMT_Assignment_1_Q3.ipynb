{
  "cells": [
    {
      "cell_type": "code",
      "execution_count": 1,
      "metadata": {
        "colab": {
          "base_uri": "https://localhost:8080/"
        },
        "id": "AO_CmV7h5mAo",
        "outputId": "19939410-c95e-44fa-bfd8-f5ab46d6dea2"
      },
      "outputs": [
        {
          "name": "stdout",
          "output_type": "stream",
          "text": [
            "/bin/pip:6: DeprecationWarning: pkg_resources is deprecated as an API. See https://setuptools.pypa.io/en/latest/pkg_resources.html\n",
            "  from pkg_resources import load_entry_point\n",
            "Requirement already satisfied: factor-analyzer in /home/user/.local/lib/python3.8/site-packages (0.5.1)\n",
            "Requirement already satisfied: pandas in /home/user/.local/lib/python3.8/site-packages (from factor-analyzer) (1.5.1)\n",
            "Requirement already satisfied: scipy in /home/user/.local/lib/python3.8/site-packages (from factor-analyzer) (1.9.0)\n",
            "Requirement already satisfied: numpy in /home/user/.local/lib/python3.8/site-packages (from factor-analyzer) (1.23.1)\n",
            "Requirement already satisfied: scikit-learn in /home/user/.local/lib/python3.8/site-packages (from factor-analyzer) (1.1.2)\n",
            "Requirement already satisfied: python-dateutil>=2.8.1 in /home/user/.local/lib/python3.8/site-packages (from pandas->factor-analyzer) (2.8.2)\n",
            "Requirement already satisfied: pytz>=2020.1 in /home/user/.local/lib/python3.8/site-packages (from pandas->factor-analyzer) (2022.5)\n",
            "Requirement already satisfied: joblib>=1.0.0 in /usr/local/lib/python3.8/dist-packages (from scikit-learn->factor-analyzer) (1.1.0)\n",
            "Requirement already satisfied: threadpoolctl>=2.0.0 in /home/user/.local/lib/python3.8/site-packages (from scikit-learn->factor-analyzer) (3.1.0)\n",
            "Requirement already satisfied: six>=1.5 in /usr/lib/python3/dist-packages (from python-dateutil>=2.8.1->pandas->factor-analyzer) (1.14.0)\n"
          ]
        }
      ],
      "source": [
        "!pip install factor-analyzer"
      ]
    },
    {
      "cell_type": "code",
      "execution_count": 2,
      "metadata": {
        "id": "G3F13V-K5tk2"
      },
      "outputs": [],
      "source": [
        "import pandas as pd\n",
        "import numpy as np\n",
        "from factor_analyzer import FactorAnalyzer\n",
        "from sklearn.preprocessing import StandardScaler\n",
        "from sklearn.decomposition import PCA"
      ]
    },
    {
      "cell_type": "code",
      "execution_count": 3,
      "metadata": {
        "colab": {
          "base_uri": "https://localhost:8080/",
          "height": 451
        },
        "id": "2Wkuq-pM5vLN",
        "outputId": "d84b1f1e-565d-4ff7-aac6-adfe8f9f7708"
      },
      "outputs": [
        {
          "data": {
            "text/html": [
              "<div>\n",
              "<style scoped>\n",
              "    .dataframe tbody tr th:only-of-type {\n",
              "        vertical-align: middle;\n",
              "    }\n",
              "\n",
              "    .dataframe tbody tr th {\n",
              "        vertical-align: top;\n",
              "    }\n",
              "\n",
              "    .dataframe thead th {\n",
              "        text-align: right;\n",
              "    }\n",
              "</style>\n",
              "<table border=\"1\" class=\"dataframe\">\n",
              "  <thead>\n",
              "    <tr style=\"text-align: right;\">\n",
              "      <th></th>\n",
              "      <th>Alternative</th>\n",
              "      <th>Jazz</th>\n",
              "      <th>Rock</th>\n",
              "      <th>Folk</th>\n",
              "      <th>Religious</th>\n",
              "      <th>Blues</th>\n",
              "      <th>Heavy Metal</th>\n",
              "      <th>Soundtracks</th>\n",
              "      <th>Dance</th>\n",
              "      <th>Pop</th>\n",
              "      <th>Soul</th>\n",
              "      <th>Rap</th>\n",
              "      <th>Classical</th>\n",
              "      <th>Country</th>\n",
              "    </tr>\n",
              "  </thead>\n",
              "  <tbody>\n",
              "    <tr>\n",
              "      <th>0</th>\n",
              "      <td>7: Like strongly</td>\n",
              "      <td>3: Dislike a little</td>\n",
              "      <td>5: Like a little</td>\n",
              "      <td>1: Dislike strongly</td>\n",
              "      <td>2: Dislike moderately</td>\n",
              "      <td>4: Neither like or dislike</td>\n",
              "      <td>4: Neither like or dislike</td>\n",
              "      <td>7: Like strongly</td>\n",
              "      <td>7: Like strongly</td>\n",
              "      <td>7: Like strongly</td>\n",
              "      <td>6: Like moderately</td>\n",
              "      <td>6: Like moderately</td>\n",
              "      <td>1: Dislike strongly</td>\n",
              "      <td>4: Neither like or dislike</td>\n",
              "    </tr>\n",
              "    <tr>\n",
              "      <th>1</th>\n",
              "      <td>6: Like moderately</td>\n",
              "      <td>6: Like moderately</td>\n",
              "      <td>7: Like strongly</td>\n",
              "      <td>4: Neither like or dislike</td>\n",
              "      <td>2: Dislike moderately</td>\n",
              "      <td>6: Like moderately</td>\n",
              "      <td>7: Like strongly</td>\n",
              "      <td>5: Like a little</td>\n",
              "      <td>3: Dislike a little</td>\n",
              "      <td>6: Like moderately</td>\n",
              "      <td>4: Neither like or dislike</td>\n",
              "      <td>6: Like moderately</td>\n",
              "      <td>3: Dislike a little</td>\n",
              "      <td>5: Like a little</td>\n",
              "    </tr>\n",
              "    <tr>\n",
              "      <th>2</th>\n",
              "      <td>3: Dislike a little</td>\n",
              "      <td>3: Dislike a little</td>\n",
              "      <td>4: Neither like or dislike</td>\n",
              "      <td>5: Like a little</td>\n",
              "      <td>5: Like a little</td>\n",
              "      <td>6: Like moderately</td>\n",
              "      <td>2: Dislike moderately</td>\n",
              "      <td>6: Like moderately</td>\n",
              "      <td>4: Neither like or dislike</td>\n",
              "      <td>6: Like moderately</td>\n",
              "      <td>6: Like moderately</td>\n",
              "      <td>5: Like a little</td>\n",
              "      <td>4: Neither like or dislike</td>\n",
              "      <td>3: Dislike a little</td>\n",
              "    </tr>\n",
              "    <tr>\n",
              "      <th>3</th>\n",
              "      <td>5: Like a little</td>\n",
              "      <td>7: Like strongly</td>\n",
              "      <td>7: Like strongly</td>\n",
              "      <td>4: Neither like or dislike</td>\n",
              "      <td>5: Like a little</td>\n",
              "      <td>7: Like strongly</td>\n",
              "      <td>7: Like strongly</td>\n",
              "      <td>7: Like strongly</td>\n",
              "      <td>5: Like a little</td>\n",
              "      <td>5: Like a little</td>\n",
              "      <td>5: Like a little</td>\n",
              "      <td>6: Like moderately</td>\n",
              "      <td>7: Like strongly</td>\n",
              "      <td>7: Like strongly</td>\n",
              "    </tr>\n",
              "    <tr>\n",
              "      <th>4</th>\n",
              "      <td>7: Like strongly</td>\n",
              "      <td>7: Like strongly</td>\n",
              "      <td>6: Like moderately</td>\n",
              "      <td>7: Like strongly</td>\n",
              "      <td>5: Like a little</td>\n",
              "      <td>7: Like strongly</td>\n",
              "      <td>1: Dislike strongly</td>\n",
              "      <td>7: Like strongly</td>\n",
              "      <td>6: Like moderately</td>\n",
              "      <td>7: Like strongly</td>\n",
              "      <td>7: Like strongly</td>\n",
              "      <td>1: Dislike strongly</td>\n",
              "      <td>6: Like moderately</td>\n",
              "      <td>7: Like strongly</td>\n",
              "    </tr>\n",
              "  </tbody>\n",
              "</table>\n",
              "</div>"
            ],
            "text/plain": [
              "           Alternative                 Jazz                        Rock  \\\n",
              "0     7: Like strongly  3: Dislike a little            5: Like a little   \n",
              "1   6: Like moderately   6: Like moderately            7: Like strongly   \n",
              "2  3: Dislike a little  3: Dislike a little  4: Neither like or dislike   \n",
              "3     5: Like a little     7: Like strongly            7: Like strongly   \n",
              "4     7: Like strongly     7: Like strongly          6: Like moderately   \n",
              "\n",
              "                         Folk              Religious  \\\n",
              "0         1: Dislike strongly  2: Dislike moderately   \n",
              "1  4: Neither like or dislike  2: Dislike moderately   \n",
              "2            5: Like a little       5: Like a little   \n",
              "3  4: Neither like or dislike       5: Like a little   \n",
              "4            7: Like strongly       5: Like a little   \n",
              "\n",
              "                        Blues                 Heavy Metal         Soundtracks  \\\n",
              "0  4: Neither like or dislike  4: Neither like or dislike    7: Like strongly   \n",
              "1          6: Like moderately            7: Like strongly    5: Like a little   \n",
              "2          6: Like moderately       2: Dislike moderately  6: Like moderately   \n",
              "3            7: Like strongly            7: Like strongly    7: Like strongly   \n",
              "4            7: Like strongly         1: Dislike strongly    7: Like strongly   \n",
              "\n",
              "                        Dance                 Pop                        Soul  \\\n",
              "0            7: Like strongly    7: Like strongly          6: Like moderately   \n",
              "1         3: Dislike a little  6: Like moderately  4: Neither like or dislike   \n",
              "2  4: Neither like or dislike  6: Like moderately          6: Like moderately   \n",
              "3            5: Like a little    5: Like a little            5: Like a little   \n",
              "4          6: Like moderately    7: Like strongly            7: Like strongly   \n",
              "\n",
              "                   Rap                   Classical                     Country  \n",
              "0   6: Like moderately         1: Dislike strongly  4: Neither like or dislike  \n",
              "1   6: Like moderately         3: Dislike a little            5: Like a little  \n",
              "2     5: Like a little  4: Neither like or dislike         3: Dislike a little  \n",
              "3   6: Like moderately            7: Like strongly            7: Like strongly  \n",
              "4  1: Dislike strongly          6: Like moderately            7: Like strongly  "
            ]
          },
          "execution_count": 3,
          "metadata": {},
          "output_type": "execute_result"
        }
      ],
      "source": [
        "df = pd.read_csv('MMT Assignment - 1 STOMP.csv')\n",
        "df.head()"
      ]
    },
    {
      "cell_type": "code",
      "execution_count": 4,
      "metadata": {
        "colab": {
          "base_uri": "https://localhost:8080/"
        },
        "id": "E-Mc_NHOBi8j",
        "outputId": "42dd949f-a42a-4cfc-8f79-1238054574bb"
      },
      "outputs": [
        {
          "data": {
            "text/plain": [
              "Index(['Alternative', 'Jazz', 'Rock', 'Folk', 'Religious', 'Blues',\n",
              "       'Heavy Metal', 'Soundtracks', 'Dance', 'Pop', 'Soul', 'Rap',\n",
              "       'Classical', 'Country'],\n",
              "      dtype='object')"
            ]
          },
          "execution_count": 4,
          "metadata": {},
          "output_type": "execute_result"
        }
      ],
      "source": [
        "col_names = df.columns\n",
        "col_names"
      ]
    },
    {
      "cell_type": "code",
      "execution_count": 5,
      "metadata": {
        "id": "dXHPTaqnBntt"
      },
      "outputs": [],
      "source": [
        "for col in col_names:\n",
        "    df[col] = df[col].str.extract('(\\d+)')\n",
        "    df[col] = pd.to_numeric(df[col])"
      ]
    },
    {
      "cell_type": "code",
      "execution_count": 6,
      "metadata": {
        "colab": {
          "base_uri": "https://localhost:8080/",
          "height": 206
        },
        "id": "oMa6Vtr5Bo77",
        "outputId": "c83563f1-ae87-46a5-e327-5877c31c4752"
      },
      "outputs": [
        {
          "data": {
            "text/html": [
              "<div>\n",
              "<style scoped>\n",
              "    .dataframe tbody tr th:only-of-type {\n",
              "        vertical-align: middle;\n",
              "    }\n",
              "\n",
              "    .dataframe tbody tr th {\n",
              "        vertical-align: top;\n",
              "    }\n",
              "\n",
              "    .dataframe thead th {\n",
              "        text-align: right;\n",
              "    }\n",
              "</style>\n",
              "<table border=\"1\" class=\"dataframe\">\n",
              "  <thead>\n",
              "    <tr style=\"text-align: right;\">\n",
              "      <th></th>\n",
              "      <th>Alternative</th>\n",
              "      <th>Jazz</th>\n",
              "      <th>Rock</th>\n",
              "      <th>Folk</th>\n",
              "      <th>Religious</th>\n",
              "      <th>Blues</th>\n",
              "      <th>Heavy Metal</th>\n",
              "      <th>Soundtracks</th>\n",
              "      <th>Dance</th>\n",
              "      <th>Pop</th>\n",
              "      <th>Soul</th>\n",
              "      <th>Rap</th>\n",
              "      <th>Classical</th>\n",
              "      <th>Country</th>\n",
              "    </tr>\n",
              "  </thead>\n",
              "  <tbody>\n",
              "    <tr>\n",
              "      <th>0</th>\n",
              "      <td>7</td>\n",
              "      <td>3</td>\n",
              "      <td>5</td>\n",
              "      <td>1</td>\n",
              "      <td>2</td>\n",
              "      <td>4</td>\n",
              "      <td>4</td>\n",
              "      <td>7</td>\n",
              "      <td>7</td>\n",
              "      <td>7</td>\n",
              "      <td>6</td>\n",
              "      <td>6</td>\n",
              "      <td>1</td>\n",
              "      <td>4</td>\n",
              "    </tr>\n",
              "    <tr>\n",
              "      <th>1</th>\n",
              "      <td>6</td>\n",
              "      <td>6</td>\n",
              "      <td>7</td>\n",
              "      <td>4</td>\n",
              "      <td>2</td>\n",
              "      <td>6</td>\n",
              "      <td>7</td>\n",
              "      <td>5</td>\n",
              "      <td>3</td>\n",
              "      <td>6</td>\n",
              "      <td>4</td>\n",
              "      <td>6</td>\n",
              "      <td>3</td>\n",
              "      <td>5</td>\n",
              "    </tr>\n",
              "    <tr>\n",
              "      <th>2</th>\n",
              "      <td>3</td>\n",
              "      <td>3</td>\n",
              "      <td>4</td>\n",
              "      <td>5</td>\n",
              "      <td>5</td>\n",
              "      <td>6</td>\n",
              "      <td>2</td>\n",
              "      <td>6</td>\n",
              "      <td>4</td>\n",
              "      <td>6</td>\n",
              "      <td>6</td>\n",
              "      <td>5</td>\n",
              "      <td>4</td>\n",
              "      <td>3</td>\n",
              "    </tr>\n",
              "    <tr>\n",
              "      <th>3</th>\n",
              "      <td>5</td>\n",
              "      <td>7</td>\n",
              "      <td>7</td>\n",
              "      <td>4</td>\n",
              "      <td>5</td>\n",
              "      <td>7</td>\n",
              "      <td>7</td>\n",
              "      <td>7</td>\n",
              "      <td>5</td>\n",
              "      <td>5</td>\n",
              "      <td>5</td>\n",
              "      <td>6</td>\n",
              "      <td>7</td>\n",
              "      <td>7</td>\n",
              "    </tr>\n",
              "    <tr>\n",
              "      <th>4</th>\n",
              "      <td>7</td>\n",
              "      <td>7</td>\n",
              "      <td>6</td>\n",
              "      <td>7</td>\n",
              "      <td>5</td>\n",
              "      <td>7</td>\n",
              "      <td>1</td>\n",
              "      <td>7</td>\n",
              "      <td>6</td>\n",
              "      <td>7</td>\n",
              "      <td>7</td>\n",
              "      <td>1</td>\n",
              "      <td>6</td>\n",
              "      <td>7</td>\n",
              "    </tr>\n",
              "  </tbody>\n",
              "</table>\n",
              "</div>"
            ],
            "text/plain": [
              "   Alternative  Jazz  Rock  Folk  Religious  Blues  Heavy Metal  Soundtracks  \\\n",
              "0            7     3     5     1          2      4            4            7   \n",
              "1            6     6     7     4          2      6            7            5   \n",
              "2            3     3     4     5          5      6            2            6   \n",
              "3            5     7     7     4          5      7            7            7   \n",
              "4            7     7     6     7          5      7            1            7   \n",
              "\n",
              "   Dance  Pop  Soul  Rap  Classical  Country  \n",
              "0      7    7     6    6          1        4  \n",
              "1      3    6     4    6          3        5  \n",
              "2      4    6     6    5          4        3  \n",
              "3      5    5     5    6          7        7  \n",
              "4      6    7     7    1          6        7  "
            ]
          },
          "execution_count": 6,
          "metadata": {},
          "output_type": "execute_result"
        }
      ],
      "source": [
        "df.head()"
      ]
    },
    {
      "cell_type": "code",
      "execution_count": 7,
      "metadata": {
        "colab": {
          "base_uri": "https://localhost:8080/",
          "height": 243
        },
        "id": "qMUEvZWGBzce",
        "outputId": "c30ce4be-5307-49ed-bbf9-b02435fbb7de"
      },
      "outputs": [
        {
          "data": {
            "text/html": [
              "<div>\n",
              "<style scoped>\n",
              "    .dataframe tbody tr th:only-of-type {\n",
              "        vertical-align: middle;\n",
              "    }\n",
              "\n",
              "    .dataframe tbody tr th {\n",
              "        vertical-align: top;\n",
              "    }\n",
              "\n",
              "    .dataframe thead th {\n",
              "        text-align: right;\n",
              "    }\n",
              "</style>\n",
              "<table border=\"1\" class=\"dataframe\">\n",
              "  <thead>\n",
              "    <tr style=\"text-align: right;\">\n",
              "      <th></th>\n",
              "      <th>Alternative</th>\n",
              "      <th>Jazz</th>\n",
              "      <th>Rock</th>\n",
              "      <th>Folk</th>\n",
              "      <th>Religious</th>\n",
              "      <th>Blues</th>\n",
              "      <th>Heavy Metal</th>\n",
              "      <th>Soundtracks</th>\n",
              "      <th>Dance</th>\n",
              "      <th>Pop</th>\n",
              "      <th>Soul</th>\n",
              "      <th>Rap</th>\n",
              "      <th>Classical</th>\n",
              "      <th>Country</th>\n",
              "    </tr>\n",
              "  </thead>\n",
              "  <tbody>\n",
              "    <tr>\n",
              "      <th>0</th>\n",
              "      <td>1.624198</td>\n",
              "      <td>-1.191064</td>\n",
              "      <td>-0.161561</td>\n",
              "      <td>-2.298553</td>\n",
              "      <td>-1.732851</td>\n",
              "      <td>-0.753794</td>\n",
              "      <td>-0.008352</td>\n",
              "      <td>0.998399</td>\n",
              "      <td>0.967455</td>\n",
              "      <td>1.055871</td>\n",
              "      <td>0.597407</td>\n",
              "      <td>0.634270</td>\n",
              "      <td>-2.066504</td>\n",
              "      <td>-1.024191</td>\n",
              "    </tr>\n",
              "    <tr>\n",
              "      <th>1</th>\n",
              "      <td>0.805387</td>\n",
              "      <td>0.827128</td>\n",
              "      <td>1.152471</td>\n",
              "      <td>-0.429063</td>\n",
              "      <td>-1.732851</td>\n",
              "      <td>0.859590</td>\n",
              "      <td>1.520154</td>\n",
              "      <td>-0.354986</td>\n",
              "      <td>-1.911313</td>\n",
              "      <td>0.306939</td>\n",
              "      <td>-1.320585</td>\n",
              "      <td>0.634270</td>\n",
              "      <td>-0.965572</td>\n",
              "      <td>-0.156474</td>\n",
              "    </tr>\n",
              "    <tr>\n",
              "      <th>2</th>\n",
              "      <td>-1.651044</td>\n",
              "      <td>-1.191064</td>\n",
              "      <td>-0.818578</td>\n",
              "      <td>0.194100</td>\n",
              "      <td>0.121604</td>\n",
              "      <td>0.859590</td>\n",
              "      <td>-1.027357</td>\n",
              "      <td>0.321706</td>\n",
              "      <td>-1.191621</td>\n",
              "      <td>0.306939</td>\n",
              "      <td>0.597407</td>\n",
              "      <td>0.081549</td>\n",
              "      <td>-0.415106</td>\n",
              "      <td>-1.891909</td>\n",
              "    </tr>\n",
              "    <tr>\n",
              "      <th>3</th>\n",
              "      <td>-0.013423</td>\n",
              "      <td>1.499858</td>\n",
              "      <td>1.152471</td>\n",
              "      <td>-0.429063</td>\n",
              "      <td>0.121604</td>\n",
              "      <td>1.666282</td>\n",
              "      <td>1.520154</td>\n",
              "      <td>0.998399</td>\n",
              "      <td>-0.471929</td>\n",
              "      <td>-0.441992</td>\n",
              "      <td>-0.361589</td>\n",
              "      <td>0.634270</td>\n",
              "      <td>1.236293</td>\n",
              "      <td>1.578962</td>\n",
              "    </tr>\n",
              "    <tr>\n",
              "      <th>4</th>\n",
              "      <td>1.624198</td>\n",
              "      <td>1.499858</td>\n",
              "      <td>0.495455</td>\n",
              "      <td>1.440426</td>\n",
              "      <td>0.121604</td>\n",
              "      <td>1.666282</td>\n",
              "      <td>-1.536859</td>\n",
              "      <td>0.998399</td>\n",
              "      <td>0.247763</td>\n",
              "      <td>1.055871</td>\n",
              "      <td>1.556404</td>\n",
              "      <td>-2.129336</td>\n",
              "      <td>0.685827</td>\n",
              "      <td>1.578962</td>\n",
              "    </tr>\n",
              "  </tbody>\n",
              "</table>\n",
              "</div>"
            ],
            "text/plain": [
              "   Alternative      Jazz      Rock      Folk  Religious     Blues  \\\n",
              "0     1.624198 -1.191064 -0.161561 -2.298553  -1.732851 -0.753794   \n",
              "1     0.805387  0.827128  1.152471 -0.429063  -1.732851  0.859590   \n",
              "2    -1.651044 -1.191064 -0.818578  0.194100   0.121604  0.859590   \n",
              "3    -0.013423  1.499858  1.152471 -0.429063   0.121604  1.666282   \n",
              "4     1.624198  1.499858  0.495455  1.440426   0.121604  1.666282   \n",
              "\n",
              "   Heavy Metal  Soundtracks     Dance       Pop      Soul       Rap  \\\n",
              "0    -0.008352     0.998399  0.967455  1.055871  0.597407  0.634270   \n",
              "1     1.520154    -0.354986 -1.911313  0.306939 -1.320585  0.634270   \n",
              "2    -1.027357     0.321706 -1.191621  0.306939  0.597407  0.081549   \n",
              "3     1.520154     0.998399 -0.471929 -0.441992 -0.361589  0.634270   \n",
              "4    -1.536859     0.998399  0.247763  1.055871  1.556404 -2.129336   \n",
              "\n",
              "   Classical   Country  \n",
              "0  -2.066504 -1.024191  \n",
              "1  -0.965572 -0.156474  \n",
              "2  -0.415106 -1.891909  \n",
              "3   1.236293  1.578962  \n",
              "4   0.685827  1.578962  "
            ]
          },
          "execution_count": 7,
          "metadata": {},
          "output_type": "execute_result"
        }
      ],
      "source": [
        "scaler = StandardScaler()\n",
        "df_standardized = scaler.fit_transform(df)\n",
        "df_standardized = pd.DataFrame(df_standardized, columns=df.columns)\n",
        "df_standardized.head()"
      ]
    },
    {
      "cell_type": "code",
      "execution_count": 8,
      "metadata": {
        "id": "LEXIVChdqy35"
      },
      "outputs": [],
      "source": [
        "df_standardized = df"
      ]
    },
    {
      "cell_type": "code",
      "execution_count": 9,
      "metadata": {
        "id": "qGPtpEwKFG4C"
      },
      "outputs": [],
      "source": [
        "from factor_analyzer import FactorAnalyzer"
      ]
    },
    {
      "cell_type": "code",
      "execution_count": 10,
      "metadata": {
        "colab": {
          "base_uri": "https://localhost:8080/",
          "height": 92
        },
        "id": "m9DEnMknFeFv",
        "outputId": "4f0d2c59-0034-4eab-b9b6-5d9ed0117c62"
      },
      "outputs": [
        {
          "data": {
            "text/html": [
              "<style>#sk-container-id-1 {color: black;background-color: white;}#sk-container-id-1 pre{padding: 0;}#sk-container-id-1 div.sk-toggleable {background-color: white;}#sk-container-id-1 label.sk-toggleable__label {cursor: pointer;display: block;width: 100%;margin-bottom: 0;padding: 0.3em;box-sizing: border-box;text-align: center;}#sk-container-id-1 label.sk-toggleable__label-arrow:before {content: \"▸\";float: left;margin-right: 0.25em;color: #696969;}#sk-container-id-1 label.sk-toggleable__label-arrow:hover:before {color: black;}#sk-container-id-1 div.sk-estimator:hover label.sk-toggleable__label-arrow:before {color: black;}#sk-container-id-1 div.sk-toggleable__content {max-height: 0;max-width: 0;overflow: hidden;text-align: left;background-color: #f0f8ff;}#sk-container-id-1 div.sk-toggleable__content pre {margin: 0.2em;color: black;border-radius: 0.25em;background-color: #f0f8ff;}#sk-container-id-1 input.sk-toggleable__control:checked~div.sk-toggleable__content {max-height: 200px;max-width: 100%;overflow: auto;}#sk-container-id-1 input.sk-toggleable__control:checked~label.sk-toggleable__label-arrow:before {content: \"▾\";}#sk-container-id-1 div.sk-estimator input.sk-toggleable__control:checked~label.sk-toggleable__label {background-color: #d4ebff;}#sk-container-id-1 div.sk-label input.sk-toggleable__control:checked~label.sk-toggleable__label {background-color: #d4ebff;}#sk-container-id-1 input.sk-hidden--visually {border: 0;clip: rect(1px 1px 1px 1px);clip: rect(1px, 1px, 1px, 1px);height: 1px;margin: -1px;overflow: hidden;padding: 0;position: absolute;width: 1px;}#sk-container-id-1 div.sk-estimator {font-family: monospace;background-color: #f0f8ff;border: 1px dotted black;border-radius: 0.25em;box-sizing: border-box;margin-bottom: 0.5em;}#sk-container-id-1 div.sk-estimator:hover {background-color: #d4ebff;}#sk-container-id-1 div.sk-parallel-item::after {content: \"\";width: 100%;border-bottom: 1px solid gray;flex-grow: 1;}#sk-container-id-1 div.sk-label:hover label.sk-toggleable__label {background-color: #d4ebff;}#sk-container-id-1 div.sk-serial::before {content: \"\";position: absolute;border-left: 1px solid gray;box-sizing: border-box;top: 0;bottom: 0;left: 50%;z-index: 0;}#sk-container-id-1 div.sk-serial {display: flex;flex-direction: column;align-items: center;background-color: white;padding-right: 0.2em;padding-left: 0.2em;position: relative;}#sk-container-id-1 div.sk-item {position: relative;z-index: 1;}#sk-container-id-1 div.sk-parallel {display: flex;align-items: stretch;justify-content: center;background-color: white;position: relative;}#sk-container-id-1 div.sk-item::before, #sk-container-id-1 div.sk-parallel-item::before {content: \"\";position: absolute;border-left: 1px solid gray;box-sizing: border-box;top: 0;bottom: 0;left: 50%;z-index: -1;}#sk-container-id-1 div.sk-parallel-item {display: flex;flex-direction: column;z-index: 1;position: relative;background-color: white;}#sk-container-id-1 div.sk-parallel-item:first-child::after {align-self: flex-end;width: 50%;}#sk-container-id-1 div.sk-parallel-item:last-child::after {align-self: flex-start;width: 50%;}#sk-container-id-1 div.sk-parallel-item:only-child::after {width: 0;}#sk-container-id-1 div.sk-dashed-wrapped {border: 1px dashed gray;margin: 0 0.4em 0.5em 0.4em;box-sizing: border-box;padding-bottom: 0.4em;background-color: white;}#sk-container-id-1 div.sk-label label {font-family: monospace;font-weight: bold;display: inline-block;line-height: 1.2em;}#sk-container-id-1 div.sk-label-container {text-align: center;}#sk-container-id-1 div.sk-container {/* jupyter's `normalize.less` sets `[hidden] { display: none; }` but bootstrap.min.css set `[hidden] { display: none !important; }` so we also need the `!important` here to be able to override the default hidden behavior on the sphinx rendered scikit-learn.org. See: https://github.com/scikit-learn/scikit-learn/issues/21755 */display: inline-block !important;position: relative;}#sk-container-id-1 div.sk-text-repr-fallback {display: none;}</style><div id=\"sk-container-id-1\" class=\"sk-top-container\"><div class=\"sk-text-repr-fallback\"><pre>FactorAnalyzer(method=&#x27;principal&#x27;, n_factors=6, rotation=&#x27;varimax&#x27;,\n",
              "               rotation_kwargs={})</pre><b>In a Jupyter environment, please rerun this cell to show the HTML representation or trust the notebook. <br />On GitHub, the HTML representation is unable to render, please try loading this page with nbviewer.org.</b></div><div class=\"sk-container\" hidden><div class=\"sk-item\"><div class=\"sk-estimator sk-toggleable\"><input class=\"sk-toggleable__control sk-hidden--visually\" id=\"sk-estimator-id-1\" type=\"checkbox\" checked><label for=\"sk-estimator-id-1\" class=\"sk-toggleable__label sk-toggleable__label-arrow\">FactorAnalyzer</label><div class=\"sk-toggleable__content\"><pre>FactorAnalyzer(method=&#x27;principal&#x27;, n_factors=6, rotation=&#x27;varimax&#x27;,\n",
              "               rotation_kwargs={})</pre></div></div></div></div></div>"
            ],
            "text/plain": [
              "FactorAnalyzer(method='principal', n_factors=6, rotation='varimax',\n",
              "               rotation_kwargs={})"
            ]
          },
          "execution_count": 10,
          "metadata": {},
          "output_type": "execute_result"
        }
      ],
      "source": [
        "fa = FactorAnalyzer(n_factors=6, rotation='varimax',method='principal')\n",
        "fa.fit(df_standardized)"
      ]
    },
    {
      "cell_type": "code",
      "execution_count": 11,
      "metadata": {
        "colab": {
          "base_uri": "https://localhost:8080/"
        },
        "id": "CzZ_mzm8Fm-w",
        "outputId": "18025946-ff58-4056-b7d9-efab8b607bf1"
      },
      "outputs": [
        {
          "name": "stdout",
          "output_type": "stream",
          "text": [
            "[[ 0.22553393 -0.03716016  0.11831803  0.76151675  0.12797756  0.20671316]\n",
            " [ 0.31620132  0.52297478 -0.03058736 -0.19047529  0.51967811  0.18179169]\n",
            " [ 0.72653845  0.07405381  0.37199634  0.36883506  0.0058277  -0.00091494]\n",
            " [-0.10414378  0.1648995   0.04655294 -0.01531256 -0.06611445  0.88507505]\n",
            " [ 0.06890682 -0.04495985  0.12154184 -0.76389663  0.00894411  0.29544767]\n",
            " [-0.04397465 -0.16791519 -0.0051985   0.23532758  0.80522973  0.1040517 ]\n",
            " [ 0.87941063  0.05923287  0.00986322 -0.07210172  0.05944547 -0.09805403]\n",
            " [-0.07047344  0.23905728  0.59371348 -0.21464461  0.57740944 -0.13173814]\n",
            " [-0.03009896 -0.08555285  0.86583019 -0.06201136 -0.05718425 -0.04591218]\n",
            " [-0.1386223   0.60603659  0.30124306  0.36442912 -0.16984577 -0.29031687]\n",
            " [-0.64823152  0.23299184  0.08281838 -0.04097819  0.10411434  0.17492927]\n",
            " [ 0.36754574  0.06845633  0.59342109  0.30157508  0.06638612  0.12546532]\n",
            " [-0.21791215  0.05306151 -0.11873273 -0.06845777  0.43058281  0.7194076 ]\n",
            " [-0.08354685  0.80205791 -0.09245712 -0.03566958 -0.02896672  0.28886905]]\n"
          ]
        }
      ],
      "source": [
        "loadings = fa.loadings_\n",
        "print(loadings)"
      ]
    },
    {
      "cell_type": "code",
      "execution_count": 12,
      "metadata": {
        "colab": {
          "base_uri": "https://localhost:8080/"
        },
        "id": "J49MlRqeFuSK",
        "outputId": "a0524a50-5e52-416c-ca13-70fab94f9627"
      },
      "outputs": [
        {
          "name": "stdout",
          "output_type": "stream",
          "text": [
            "                    0         1         2         3         4         5\n",
            "Alternative  0.225534 -0.037160  0.118318  0.761517  0.127978  0.206713\n",
            "Jazz         0.316201  0.522975 -0.030587 -0.190475  0.519678  0.181792\n",
            "Rock         0.726538  0.074054  0.371996  0.368835  0.005828 -0.000915\n",
            "Folk        -0.104144  0.164900  0.046553 -0.015313 -0.066114  0.885075\n",
            "Religious    0.068907 -0.044960  0.121542 -0.763897  0.008944  0.295448\n",
            "Blues       -0.043975 -0.167915 -0.005199  0.235328  0.805230  0.104052\n",
            "Heavy Metal  0.879411  0.059233  0.009863 -0.072102  0.059445 -0.098054\n",
            "Soundtracks -0.070473  0.239057  0.593713 -0.214645  0.577409 -0.131738\n",
            "Dance       -0.030099 -0.085553  0.865830 -0.062011 -0.057184 -0.045912\n",
            "Pop         -0.138622  0.606037  0.301243  0.364429 -0.169846 -0.290317\n",
            "Soul        -0.648232  0.232992  0.082818 -0.040978  0.104114  0.174929\n",
            "Rap          0.367546  0.068456  0.593421  0.301575  0.066386  0.125465\n",
            "Classical   -0.217912  0.053062 -0.118733 -0.068458  0.430583  0.719408\n",
            "Country     -0.083547  0.802058 -0.092457 -0.035670 -0.028967  0.288869\n"
          ]
        }
      ],
      "source": [
        "loadings = pd.DataFrame(loadings, index=df.columns)\n",
        "print(loadings)"
      ]
    },
    {
      "cell_type": "code",
      "execution_count": 13,
      "metadata": {
        "colab": {
          "base_uri": "https://localhost:8080/"
        },
        "id": "jGKrefYAF8yJ",
        "outputId": "d0a75b10-30b3-4c31-ce09-2c6bd5fefce1"
      },
      "outputs": [
        {
          "name": "stdout",
          "output_type": "stream",
          "text": [
            "                    0         1         2         3\n",
            "Alternative  0.284048  0.247315 -0.029705  0.710944\n",
            "Jazz         0.240504  0.601514  0.240419 -0.143318\n",
            "Rock         0.721819  0.043047  0.307164  0.399909\n",
            "Folk        -0.191824  0.687874 -0.082676 -0.022996\n",
            "Religious    0.025522  0.178120  0.138642 -0.758023\n",
            "Blues        0.129186  0.471897  0.023644  0.096949\n",
            "Heavy Metal  0.837753  0.003929  0.068956 -0.054898\n",
            "Soundtracks -0.002786  0.243327  0.767106 -0.170698\n",
            "Dance        0.032487 -0.155647  0.744112 -0.007578\n",
            "Pop         -0.243952 -0.122517  0.461448  0.537233\n",
            "Soul        -0.663489  0.238418  0.146261 -0.008264\n",
            "Rap          0.392115  0.140969  0.496395  0.334233\n",
            "Classical   -0.202171  0.799969 -0.142779 -0.154569\n",
            "Country     -0.291110  0.473431  0.147803  0.113587\n"
          ]
        }
      ],
      "source": [
        "fa = FactorAnalyzer(n_factors=4, rotation='varimax',method='principal')\n",
        "fa.fit(df_standardized)\n",
        "loadings = fa.loadings_\n",
        "loadings = pd.DataFrame(loadings, index=df.columns)\n",
        "print(loadings)"
      ]
    },
    {
      "cell_type": "code",
      "execution_count": null,
      "metadata": {
        "id": "kgFJRB96GSZm"
      },
      "outputs": [],
      "source": []
    }
  ],
  "metadata": {
    "colab": {
      "provenance": []
    },
    "kernelspec": {
      "display_name": "Python 3",
      "name": "python3"
    },
    "language_info": {
      "codemirror_mode": {
        "name": "ipython",
        "version": 3
      },
      "file_extension": ".py",
      "mimetype": "text/x-python",
      "name": "python",
      "nbconvert_exporter": "python",
      "pygments_lexer": "ipython3",
      "version": "3.8.10"
    }
  },
  "nbformat": 4,
  "nbformat_minor": 0
}
